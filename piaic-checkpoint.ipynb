{
 "cells": [
  {
   "cell_type": "code",
   "execution_count": 1,
   "metadata": {},
   "outputs": [
    {
     "name": "stdout",
     "output_type": "stream",
     "text": [
      "1 1.5 piaic\n"
     ]
    }
   ],
   "source": [
    "print(1,1.5,\"piaic\")"
   ]
  },
  {
   "cell_type": "code",
   "execution_count": 2,
   "metadata": {},
   "outputs": [
    {
     "name": "stdout",
     "output_type": "stream",
     "text": [
      "python\t\tJava\t\tjava script\t\t"
     ]
    }
   ],
   "source": [
    "print(\"python\",end=\"\\t\\t\")\n",
    "print(\"Java\",end=\"\\t\\t\")\n",
    "print(\"java script\",end=\"\\t\\t\")"
   ]
  },
  {
   "cell_type": "code",
   "execution_count": 8,
   "metadata": {},
   "outputs": [
    {
     "name": "stdout",
     "output_type": "stream",
     "text": [
      "My name iswasiand my age is12\n"
     ]
    }
   ],
   "source": [
    "age=12\n",
    "name=\"wasi\"\n",
    "print(\"My name is\"+ name + \"and my age is\" + str(age))"
   ]
  },
  {
   "cell_type": "code",
   "execution_count": 14,
   "metadata": {},
   "outputs": [
    {
     "name": "stdout",
     "output_type": "stream",
     "text": [
      "My name is wasi and my age is 12\n"
     ]
    }
   ],
   "source": [
    "age=12\n",
    "name=\"wasi\"                                                    # type casting\n",
    "print(\"My name is \" +name+ \" and my age is \" +str(age))         "
   ]
  },
  {
   "cell_type": "code",
   "execution_count": null,
   "metadata": {},
   "outputs": [],
   "source": [
    "age=int(input(\"Enter your age:\"))\n",
    "name=input(\"Enter your name:\")\n",
    "print(\"My name is \" +name+ \" and my age is \" +str(age))\n",
    "type(age)"
   ]
  },
  {
   "cell_type": "markdown",
   "metadata": {},
   "source": [
    "#            String Formating using python's .format()"
   ]
  },
  {
   "cell_type": "code",
   "execution_count": 18,
   "metadata": {},
   "outputs": [
    {
     "name": "stdout",
     "output_type": "stream",
     "text": [
      "Enter your age:23\n",
      "Enter your name:wasi\n",
      "My name is wasi and my age is 23\n"
     ]
    }
   ],
   "source": [
    " age=input(\"Enter your age:\")               \n",
    "name=input(\"Enter your name:\")\n",
    "print(\"My name is {} and my age is {}\".format(name,age))"
   ]
  },
  {
   "cell_type": "markdown",
   "metadata": {},
   "source": [
    "# String formatting using pythons f\n"
   ]
  },
  {
   "cell_type": "code",
   "execution_count": 22,
   "metadata": {},
   "outputs": [
    {
     "name": "stdout",
     "output_type": "stream",
     "text": [
      "My name is wasi and my age is 23\n"
     ]
    }
   ],
   "source": [
    "print(f\"My name is {name} and my age is {age}\" )"
   ]
  },
  {
   "cell_type": "markdown",
   "metadata": {},
   "source": [
    "# PRECEDENCE AND AMBIGUITY"
   ]
  },
  {
   "cell_type": "code",
   "execution_count": 23,
   "metadata": {},
   "outputs": [
    {
     "data": {
      "text/plain": [
       "8"
      ]
     },
     "execution_count": 23,
     "metadata": {},
     "output_type": "execute_result"
    }
   ],
   "source": [
    "2**3\n"
   ]
  },
  {
   "cell_type": "code",
   "execution_count": 24,
   "metadata": {},
   "outputs": [
    {
     "data": {
      "text/plain": [
       "64"
      ]
     },
     "execution_count": 24,
     "metadata": {},
     "output_type": "execute_result"
    }
   ],
   "source": [
    "8**2\n"
   ]
  },
  {
   "cell_type": "code",
   "execution_count": 25,
   "metadata": {},
   "outputs": [
    {
     "data": {
      "text/plain": [
       "False"
      ]
     },
     "execution_count": 25,
     "metadata": {},
     "output_type": "execute_result"
    }
   ],
   "source": [
    "12>23"
   ]
  },
  {
   "cell_type": "code",
   "execution_count": 26,
   "metadata": {},
   "outputs": [
    {
     "data": {
      "text/plain": [
       "True"
      ]
     },
     "execution_count": 26,
     "metadata": {},
     "output_type": "execute_result"
    }
   ],
   "source": [
    "87<100"
   ]
  },
  {
   "cell_type": "code",
   "execution_count": 27,
   "metadata": {},
   "outputs": [
    {
     "data": {
      "text/plain": [
       "True"
      ]
     },
     "execution_count": 27,
     "metadata": {},
     "output_type": "execute_result"
    }
   ],
   "source": [
    "12==12\n"
   ]
  },
  {
   "cell_type": "code",
   "execution_count": 29,
   "metadata": {},
   "outputs": [
    {
     "name": "stdout",
     "output_type": "stream",
     "text": [
      "Enter num1:12\n",
      "Enter num2:23\n",
      "num1 is not greater\n"
     ]
    }
   ],
   "source": [
    "num1=input(\"Enter num1:\")\n",
    "num2=input(\"Enter num2:\")\n",
    "if num1>num2:\n",
    "    print(\"Num1 is greater\")\n",
    "else:\n",
    "    print(\"num1 is not greater\")"
   ]
  },
  {
   "cell_type": "code",
   "execution_count": 33,
   "metadata": {},
   "outputs": [
    {
     "name": "stdout",
     "output_type": "stream",
     "text": [
      "Enter a number:2\n",
      "Number is even\n"
     ]
    }
   ],
   "source": [
    "num=input(\"Enter a number:\")\n",
    "if int(num)%2:\n",
    "    print(\"Number is odd\")\n",
    "else:\n",
    "    print(\"Number is even\")\n",
    "    "
   ]
  },
  {
   "cell_type": "markdown",
   "metadata": {},
   "source": [
    "# ELSE AND ELIF"
   ]
  },
  {
   "cell_type": "code",
   "execution_count": 36,
   "metadata": {},
   "outputs": [
    {
     "ename": "SyntaxError",
     "evalue": "invalid syntax (<ipython-input-36-bfca5d51ebdd>, line 4)",
     "output_type": "error",
     "traceback": [
      "\u001b[1;36m  File \u001b[1;32m\"<ipython-input-36-bfca5d51ebdd>\"\u001b[1;36m, line \u001b[1;32m4\u001b[0m\n\u001b[1;33m    elif ticket==\"Yes\":\u001b[0m\n\u001b[1;37m       ^\u001b[0m\n\u001b[1;31mSyntaxError\u001b[0m\u001b[1;31m:\u001b[0m invalid syntax\n"
     ]
    }
   ],
   "source": [
    "age=input(\"Enter your age:\")\n",
    "ticket=input(\"Do you have a ticket:\")\n",
    "if age>=18:\n",
    "    elif ticket==\"Yes\":\n",
    "print(\"You can go\")\n",
    "else:\n",
    "    print(\"You cannot go\")"
   ]
  },
  {
   "cell_type": "code",
   "execution_count": 51,
   "metadata": {},
   "outputs": [
    {
     "name": "stdout",
     "output_type": "stream",
     "text": [
      "Do you have id card:yes\n",
      "You have a id card:\n",
      "is your name in voter list:yes\n",
      "You can cast the vote\n"
     ]
    }
   ],
   "source": [
    "card=input(\"Do you have id card:\")\n",
    "if card==\"yes\":\n",
    "    print(\"You have a id card:\")\n",
    "    voterL=input(\"is your name in voter list:\")\n",
    "    if voterL==\"yes\":\n",
    "         print(\"You can cast the vote\")\n",
    "else:\n",
    "    print(\"You cannot cast the vote\")\n",
    "\n",
    "\n",
    "\n"
   ]
  },
  {
   "cell_type": "markdown",
   "metadata": {},
   "source": [
    "#            # Nested IF "
   ]
  },
  {
   "cell_type": "code",
   "execution_count": 1,
   "metadata": {},
   "outputs": [
    {
     "name": "stdout",
     "output_type": "stream",
     "text": [
      "hello\n",
      "Hi\n",
      "Yes\n"
     ]
    }
   ],
   "source": [
    "a=b=c=d=10\n",
    "if a<=b:\n",
    "    print(\"hello\")\n",
    "if a>=b:\n",
    "    print(\"Hi\")\n",
    "    if a==b:\n",
    "    print(\"Yes\")"
   ]
  },
  {
   "cell_type": "code",
   "execution_count": 11,
   "metadata": {},
   "outputs": [
    {
     "ename": "IndentationError",
     "evalue": "unexpected indent (<ipython-input-11-dfbc9a938703>, line 4)",
     "output_type": "error",
     "traceback": [
      "\u001b[1;36m  File \u001b[1;32m\"<ipython-input-11-dfbc9a938703>\"\u001b[1;36m, line \u001b[1;32m4\u001b[0m\n\u001b[1;33m    if Q1==1\u001b[0m\n\u001b[1;37m    ^\u001b[0m\n\u001b[1;31mIndentationError\u001b[0m\u001b[1;31m:\u001b[0m unexpected indent\n"
     ]
    }
   ],
   "source": [
    "Q1=Q2=Q3=Q4==Q5=1\n",
    "if Q1==1:\n",
    "    print(\"pass\")\n",
    "       if Q1==1\n",
    "    print(\"pass\")\n",
    "      if Q2==1:\n",
    "    print(\"pass\")\n",
    "     if Q3==1:\n",
    "    print(\"pass\")\n",
    "     if Q4==1:\n",
    "    print(\"pass\")\n",
    "     if Q5==1:\n",
    "    print(\"pass\")\n",
    "else:\n",
    "    print(\"fail\")"
   ]
  },
  {
   "cell_type": "code",
   "execution_count": 9,
   "metadata": {},
   "outputs": [
    {
     "name": "stdout",
     "output_type": "stream",
     "text": [
      "Do you have a valid cnic:YEs\n",
      "come inside\n",
      "is your name in list:no\n",
      "you cannot cast the vote\n"
     ]
    }
   ],
   "source": [
    "cnic_status=input(\"Do you have a valid cnic:\").lower()\n",
    "if cnic_status==\"yes\":\n",
    "    print(\"come inside\")\n",
    "    name_in_list=input(\"is your name in list:\").lower()\n",
    "    if name_in_list==\"yes\":\n",
    "        print(\"you can cast vote\")\n",
    "    else:\n",
    "        print(\"you cannot cast the vote\")\n",
    "else:\n",
    "    print(\"you cannot cast the vote\")"
   ]
  },
  {
   "cell_type": "markdown",
   "metadata": {},
   "source": [
    "#    # Elif"
   ]
  },
  {
   "cell_type": "code",
   "execution_count": 29,
   "metadata": {},
   "outputs": [
    {
     "name": "stdout",
     "output_type": "stream",
     "text": [
      "enter your marks45\n",
      "Fail\n",
      "your grade is:\n"
     ]
    }
   ],
   "source": [
    "marks=int(input(\"enter your marks\"))\n",
    "grade=\"\"\n",
    "if marks>=90:\n",
    "    grade=\"A*\"\n",
    "elif marks>=80:\n",
    "    grade=\"A\"\n",
    "elif marks>=70:\n",
    "    grade=\"B\"\n",
    "elif marks>=60:\n",
    "    grade=\"C\"\n",
    "elif marks>=50:\n",
    "    grade=\"D\"\n",
    "#elif marks<50:\n",
    " #   grade=\"U\"\n",
    "   print(\"Fail\")\n",
    "print(\"your grade is:\" +grade)  \n",
    "\n",
    "    "
   ]
  },
  {
   "cell_type": "code",
   "execution_count": 31,
   "metadata": {},
   "outputs": [
    {
     "name": "stdout",
     "output_type": "stream",
     "text": [
      "Enter a character:A\n",
      "The character is vowel\n"
     ]
    }
   ],
   "source": [
    "char=input(\"Enter a character:\").lower()\n",
    "if(char==\"a\"or char==\"e\"or char==\"i\" or char==\"o\" or char==\"u\"):\n",
    "    print(\"The character is vowel\")\n",
    "else:\n",
    "    print(\"The character is consonant\")"
   ]
  },
  {
   "cell_type": "markdown",
   "metadata": {},
   "source": [
    "# Lists"
   ]
  },
  {
   "cell_type": "code",
   "execution_count": 32,
   "metadata": {},
   "outputs": [
    {
     "data": {
      "text/plain": [
       "4"
      ]
     },
     "execution_count": 32,
     "metadata": {},
     "output_type": "execute_result"
    }
   ],
   "source": [
    "alist=[\"asad\",\"jamil\",\"wasi\",\"kamran\"]\n",
    "len(alist)"
   ]
  },
  {
   "cell_type": "code",
   "execution_count": 38,
   "metadata": {},
   "outputs": [
    {
     "data": {
      "text/plain": [
       "['wasi', 'kamran']"
      ]
     },
     "execution_count": 38,
     "metadata": {},
     "output_type": "execute_result"
    }
   ],
   "source": [
    "alist[2:4] "
   ]
  },
  {
   "cell_type": "code",
   "execution_count": 40,
   "metadata": {},
   "outputs": [],
   "source": [
    "list2=[123,\"apple\",False,1.45]               #multiple data types\n",
    "list2.append(1222)    "
   ]
  },
  {
   "cell_type": "code",
   "execution_count": 41,
   "metadata": {},
   "outputs": [],
   "source": [
    "list2.append(1999)\n"
   ]
  },
  {
   "cell_type": "code",
   "execution_count": 42,
   "metadata": {},
   "outputs": [
    {
     "data": {
      "text/plain": [
       "[123, 'apple', False, 1.45, 1222, 1999]"
      ]
     },
     "execution_count": 42,
     "metadata": {},
     "output_type": "execute_result"
    }
   ],
   "source": [
    "list2\n"
   ]
  },
  {
   "cell_type": "code",
   "execution_count": 7,
   "metadata": {},
   "outputs": [],
   "source": [
    "alist=['oranges','apples','mangoes']\n"
   ]
  },
  {
   "cell_type": "code",
   "execution_count": 6,
   "metadata": {},
   "outputs": [
    {
     "ename": "ValueError",
     "evalue": "list.remove(x): x not in list",
     "output_type": "error",
     "traceback": [
      "\u001b[1;31m---------------------------------------------------------------------------\u001b[0m",
      "\u001b[1;31mValueError\u001b[0m                                Traceback (most recent call last)",
      "\u001b[1;32m<ipython-input-6-698c320ab695>\u001b[0m in \u001b[0;36m<module>\u001b[1;34m\u001b[0m\n\u001b[1;32m----> 1\u001b[1;33m \u001b[0malist\u001b[0m\u001b[1;33m.\u001b[0m\u001b[0mremove\u001b[0m\u001b[1;33m(\u001b[0m\u001b[1;34m'apples'\u001b[0m\u001b[1;33m)\u001b[0m\u001b[1;33m\u001b[0m\u001b[1;33m\u001b[0m\u001b[0m\n\u001b[0m",
      "\u001b[1;31mValueError\u001b[0m: list.remove(x): x not in list"
     ]
    }
   ],
   "source": [
    "alist.remove('banana')\n"
   ]
  },
  {
   "cell_type": "code",
   "execution_count": 8,
   "metadata": {},
   "outputs": [
    {
     "data": {
      "text/plain": [
       "['oranges', 'mangoes']"
      ]
     },
     "execution_count": 8,
     "metadata": {},
     "output_type": "execute_result"
    }
   ],
   "source": [
    "alist\n"
   ]
  },
  {
   "cell_type": "code",
   "execution_count": 11,
   "metadata": {},
   "outputs": [
    {
     "data": {
      "text/plain": [
       "[12, 32, 43, 67]"
      ]
     },
     "execution_count": 11,
     "metadata": {},
     "output_type": "execute_result"
    }
   ],
   "source": [
    "slist=[12,32,43,67]\n",
    "slist.sort()                         #sort in ascending order \n",
    "slist"
   ]
  },
  {
   "cell_type": "code",
   "execution_count": 12,
   "metadata": {},
   "outputs": [
    {
     "data": {
      "text/plain": [
       "[67, 43, 32, 12]"
      ]
     },
     "execution_count": 12,
     "metadata": {},
     "output_type": "execute_result"
    }
   ],
   "source": [
    "blist=[12,32,43,67]\n",
    "blist.sort(reverse=True)            #sort in descending order\n",
    "blist"
   ]
  },
  {
   "cell_type": "code",
   "execution_count": 13,
   "metadata": {},
   "outputs": [
    {
     "data": {
      "text/plain": [
       "[]"
      ]
     },
     "execution_count": 13,
     "metadata": {},
     "output_type": "execute_result"
    }
   ],
   "source": [
    "slist.clear()\n",
    "slist"
   ]
  },
  {
   "cell_type": "code",
   "execution_count": 15,
   "metadata": {},
   "outputs": [
    {
     "ename": "IndexError",
     "evalue": "pop from empty list",
     "output_type": "error",
     "traceback": [
      "\u001b[1;31m---------------------------------------------------------------------------\u001b[0m",
      "\u001b[1;31mIndexError\u001b[0m                                Traceback (most recent call last)",
      "\u001b[1;32m<ipython-input-15-b36e9a97003e>\u001b[0m in \u001b[0;36m<module>\u001b[1;34m\u001b[0m\n\u001b[1;32m----> 1\u001b[1;33m \u001b[0mx\u001b[0m\u001b[1;33m=\u001b[0m\u001b[0mslist\u001b[0m\u001b[1;33m.\u001b[0m\u001b[0mpop\u001b[0m\u001b[1;33m(\u001b[0m\u001b[1;36m32\u001b[0m\u001b[1;33m)\u001b[0m\u001b[1;33m\u001b[0m\u001b[1;33m\u001b[0m\u001b[0m\n\u001b[0m",
      "\u001b[1;31mIndexError\u001b[0m: pop from empty list"
     ]
    }
   ],
   "source": [
    "x=blist.pop()\n"
   ]
  },
  {
   "cell_type": "code",
   "execution_count": 17,
   "metadata": {},
   "outputs": [
    {
     "ename": "NameError",
     "evalue": "name 'blist' is not defined",
     "output_type": "error",
     "traceback": [
      "\u001b[1;31m---------------------------------------------------------------------------\u001b[0m",
      "\u001b[1;31mNameError\u001b[0m                                 Traceback (most recent call last)",
      "\u001b[1;32m<ipython-input-17-5513e5c1e7b9>\u001b[0m in \u001b[0;36m<module>\u001b[1;34m\u001b[0m\n\u001b[1;32m----> 1\u001b[1;33m \u001b[0mprint\u001b[0m\u001b[1;33m(\u001b[0m\u001b[0mblist\u001b[0m\u001b[1;33m)\u001b[0m\u001b[1;33m\u001b[0m\u001b[1;33m\u001b[0m\u001b[0m\n\u001b[0m\u001b[0;32m      2\u001b[0m \u001b[0mprint\u001b[0m\u001b[1;33m(\u001b[0m\u001b[0mx\u001b[0m\u001b[1;33m)\u001b[0m\u001b[1;33m\u001b[0m\u001b[1;33m\u001b[0m\u001b[0m\n",
      "\u001b[1;31mNameError\u001b[0m: name 'blist' is not defined"
     ]
    }
   ],
   "source": [
    "print(blist)\n",
    "print(x)"
   ]
  },
  {
   "cell_type": "code",
   "execution_count": 19,
   "metadata": {},
   "outputs": [
    {
     "name": "stdout",
     "output_type": "stream",
     "text": [
      "5\n"
     ]
    }
   ],
   "source": [
    "clist=[1,2,3,4,5]\n",
    "a=clist.pop()\n",
    "print(a)"
   ]
  },
  {
   "cell_type": "code",
   "execution_count": 21,
   "metadata": {},
   "outputs": [
    {
     "name": "stdout",
     "output_type": "stream",
     "text": [
      "[2, 3, 4, 5]\n"
     ]
    }
   ],
   "source": [
    "clist=[1,2,3,4,5]\n",
    "a=clist.pop(0)\n",
    "print(clist)"
   ]
  },
  {
   "cell_type": "code",
   "execution_count": 67,
   "metadata": {},
   "outputs": [],
   "source": [
    "ylist=[]\n",
    "xlist=[2,4,6,8]"
   ]
  },
  {
   "cell_type": "code",
   "execution_count": 72,
   "metadata": {},
   "outputs": [
    {
     "name": "stdout",
     "output_type": "stream",
     "text": [
      "list empty\n"
     ]
    }
   ],
   "source": [
    "if  len(xlist)==0:\n",
    "    print(\"list empty\")\n",
    "else:\n",
    "\n",
    "    n=xlist.pop()\n",
    "    ylist.append(n)\n",
    "    print(ylist)\n"
   ]
  },
  {
   "cell_type": "code",
   "execution_count": 73,
   "metadata": {},
   "outputs": [
    {
     "data": {
      "text/plain": [
       "[111, 222, 333, 444, 555]"
      ]
     },
     "execution_count": 73,
     "metadata": {},
     "output_type": "execute_result"
    }
   ],
   "source": [
    "b=[111,222,333,444,555,666,777,888]\n",
    "b"
   ]
  },
  {
   "cell_type": "code",
   "execution_count": 74,
   "metadata": {},
   "outputs": [],
   "source": [
    "c=b"
   ]
  },
  {
   "cell_type": "code",
   "execution_count": 75,
   "metadata": {},
   "outputs": [
    {
     "data": {
      "text/plain": [
       "[111, 222, 333, 444, 555]"
      ]
     },
     "execution_count": 75,
     "metadata": {},
     "output_type": "execute_result"
    }
   ],
   "source": [
    "c"
   ]
  },
  {
   "cell_type": "code",
   "execution_count": 76,
   "metadata": {},
   "outputs": [],
   "source": [
    "del b[2]"
   ]
  },
  {
   "cell_type": "code",
   "execution_count": 77,
   "metadata": {},
   "outputs": [
    {
     "data": {
      "text/plain": [
       "[111, 222, 444, 555]"
      ]
     },
     "execution_count": 77,
     "metadata": {},
     "output_type": "execute_result"
    }
   ],
   "source": [
    "b"
   ]
  },
  {
   "cell_type": "code",
   "execution_count": 78,
   "metadata": {},
   "outputs": [
    {
     "data": {
      "text/plain": [
       "[111, 222, 444, 555]"
      ]
     },
     "execution_count": 78,
     "metadata": {},
     "output_type": "execute_result"
    }
   ],
   "source": [
    "c"
   ]
  },
  {
   "cell_type": "markdown",
   "metadata": {},
   "source": [
    "# slicing"
   ]
  },
  {
   "cell_type": "code",
   "execution_count": 87,
   "metadata": {},
   "outputs": [
    {
     "data": {
      "text/plain": [
       "[111, 222, 444]"
      ]
     },
     "execution_count": 87,
     "metadata": {},
     "output_type": "execute_result"
    }
   ],
   "source": [
    "b[0:3]\n"
   ]
  },
  {
   "cell_type": "code",
   "execution_count": 88,
   "metadata": {},
   "outputs": [
    {
     "data": {
      "text/plain": [
       "[222, 444]"
      ]
     },
     "execution_count": 88,
     "metadata": {},
     "output_type": "execute_result"
    }
   ],
   "source": [
    "b[1:3:1]"
   ]
  },
  {
   "cell_type": "markdown",
   "metadata": {},
   "source": [
    "# Reverse indexing\n"
   ]
  },
  {
   "cell_type": "code",
   "execution_count": 93,
   "metadata": {},
   "outputs": [],
   "source": [
    "cities=['khi','lhr','isl','pshwr','pindi','quta']"
   ]
  },
  {
   "cell_type": "code",
   "execution_count": 95,
   "metadata": {},
   "outputs": [
    {
     "data": {
      "text/plain": [
       "['isl', 'pshwr', 'pindi']"
      ]
     },
     "execution_count": 95,
     "metadata": {},
     "output_type": "execute_result"
    }
   ],
   "source": [
    "cities[-4:-1]\n"
   ]
  },
  {
   "cell_type": "code",
   "execution_count": 99,
   "metadata": {},
   "outputs": [
    {
     "data": {
      "text/plain": [
       "['khi', 'lhr', 'isl']"
      ]
     },
     "execution_count": 99,
     "metadata": {},
     "output_type": "execute_result"
    }
   ],
   "source": [
    "cities[0:3]"
   ]
  },
  {
   "cell_type": "markdown",
   "metadata": {},
   "source": [
    "# OOP Classes\n",
    "        "
   ]
  },
  {
   "cell_type": "code",
   "execution_count": 13,
   "metadata": {},
   "outputs": [],
   "source": [
    "class patient():\n",
    "    def __init__(self,name,age,gender,disease):\n",
    "       #constructor/Initializer\n",
    "        #Attributes >>>>>>Properties\n",
    "        #behaviours >>>>>functions/methods\n",
    "        self.name=name\n",
    "        self.age=age          #these are attributes\n",
    "        self.gender=gender\n",
    "        self.disease=disease\n",
    "         "
   ]
  },
  {
   "cell_type": "code",
   "execution_count": 14,
   "metadata": {},
   "outputs": [],
   "source": [
    "p1=patient(\"gabbar\",50,\"male\",\"aids\")"
   ]
  },
  {
   "cell_type": "code",
   "execution_count": 15,
   "metadata": {},
   "outputs": [],
   "source": [
    "p2=patient(\"samba\",45,\"male\",\"fever\")"
   ]
  },
  {
   "cell_type": "code",
   "execution_count": 27,
   "metadata": {},
   "outputs": [
    {
     "ename": "NameError",
     "evalue": "name 'p1' is not defined",
     "output_type": "error",
     "traceback": [
      "\u001b[1;31m---------------------------------------------------------------------------\u001b[0m",
      "\u001b[1;31mNameError\u001b[0m                                 Traceback (most recent call last)",
      "\u001b[1;32m<ipython-input-27-bdf2744a45d7>\u001b[0m in \u001b[0;36m<module>\u001b[1;34m\u001b[0m\n\u001b[1;32m----> 1\u001b[1;33m \u001b[0mp1\u001b[0m\u001b[1;33m.\u001b[0m\u001b[0mage\u001b[0m\u001b[1;33m\u001b[0m\u001b[1;33m\u001b[0m\u001b[0m\n\u001b[0m",
      "\u001b[1;31mNameError\u001b[0m: name 'p1' is not defined"
     ]
    }
   ],
   "source": [
    "p1.age\n"
   ]
  },
  {
   "cell_type": "code",
   "execution_count": 17,
   "metadata": {},
   "outputs": [
    {
     "data": {
      "text/plain": [
       "'samba'"
      ]
     },
     "execution_count": 17,
     "metadata": {},
     "output_type": "execute_result"
    }
   ],
   "source": [
    "p2.name"
   ]
  },
  {
   "cell_type": "code",
   "execution_count": 29,
   "metadata": {},
   "outputs": [],
   "source": [
    "class student():\n",
    "     def __init__(self,name,rollNo):\n",
    "        self.name1=name\n",
    "        self.rollNo=rollNo"
   ]
  },
  {
   "cell_type": "code",
   "execution_count": 30,
   "metadata": {},
   "outputs": [],
   "source": [
    "s1=student(\"ahmed\",1423)\n",
    "\n"
   ]
  },
  {
   "cell_type": "code",
   "execution_count": 31,
   "metadata": {},
   "outputs": [],
   "source": [
    "s2=student(\"ali\",2344)"
   ]
  },
  {
   "cell_type": "code",
   "execution_count": 25,
   "metadata": {},
   "outputs": [
    {
     "ename": "NameError",
     "evalue": "name 's1' is not defined",
     "output_type": "error",
     "traceback": [
      "\u001b[1;31m---------------------------------------------------------------------------\u001b[0m",
      "\u001b[1;31mNameError\u001b[0m                                 Traceback (most recent call last)",
      "\u001b[1;32m<ipython-input-25-2d2a8d61f973>\u001b[0m in \u001b[0;36m<module>\u001b[1;34m\u001b[0m\n\u001b[1;32m----> 1\u001b[1;33m \u001b[0ms1\u001b[0m\u001b[1;33m.\u001b[0m\u001b[0mname1\u001b[0m\u001b[1;33m\u001b[0m\u001b[1;33m\u001b[0m\u001b[0m\n\u001b[0m",
      "\u001b[1;31mNameError\u001b[0m: name 's1' is not defined"
     ]
    }
   ],
   "source": [
    "s1.name1"
   ]
  },
  {
   "cell_type": "code",
   "execution_count": 24,
   "metadata": {},
   "outputs": [],
   "source": [
    "class dog():\n",
    "    def __init__(self,name,age):\n",
    "        self.name=name\n",
    "        self.age=age\n",
    "    def sit(self):\n",
    "        print(self.name.title() +\" is now sitting\")\n",
    "    def roll_over(self):\n",
    "        print(self.name.title() +\" roll over!!\")\n",
    "    "
   ]
  },
  {
   "cell_type": "code",
   "execution_count": null,
   "metadata": {},
   "outputs": [],
   "source": []
  },
  {
   "cell_type": "code",
   "execution_count": 41,
   "metadata": {},
   "outputs": [],
   "source": [
    "d1=dog(\"puppy\",4)"
   ]
  },
  {
   "cell_type": "code",
   "execution_count": 43,
   "metadata": {},
   "outputs": [
    {
     "name": "stdout",
     "output_type": "stream",
     "text": [
      "Puppy is now sitting\n"
     ]
    }
   ],
   "source": [
    "d1.sit()"
   ]
  },
  {
   "cell_type": "code",
   "execution_count": 44,
   "metadata": {},
   "outputs": [
    {
     "name": "stdout",
     "output_type": "stream",
     "text": [
      "Puppy roll over!!\n"
     ]
    }
   ],
   "source": [
    "d1.roll_over()"
   ]
  },
  {
   "cell_type": "code",
   "execution_count": 45,
   "metadata": {},
   "outputs": [
    {
     "name": "stdout",
     "output_type": "stream",
     "text": [
      "My dog name is Puppy\n",
      "My dog age is 4\n",
      "Puppy roll over!!\n"
     ]
    }
   ],
   "source": [
    "print(\"My dog name is \" + d1.name.title())\n",
    "print(\"My dog age is \" +str(d1.age))\n",
    "d1.roll_over()"
   ]
  },
  {
   "cell_type": "code",
   "execution_count": null,
   "metadata": {},
   "outputs": [],
   "source": []
  },
  {
   "cell_type": "code",
   "execution_count": null,
   "metadata": {},
   "outputs": [],
   "source": []
  },
  {
   "cell_type": "code",
   "execution_count": 3,
   "metadata": {},
   "outputs": [],
   "source": [
    "class patient():\n",
    "    def __init__(self,fname,lname,age):\n",
    "        self.fname=fname\n",
    "        self.lname=lname\n",
    "        self.age=age\n",
    "    #    pid123=(\"wasi\",\"rehman\")\n",
    "    def pid123(self):\n",
    "        print(\"patient's first name \" +self.fname.title())\n",
    "        print(\"patient's last name \" +self.lname.title() )\n",
    "   #     print(\"patient's age is \" +self.age.tit )\n",
    "    def pid234(self):\n",
    "        print(\"patient's first name \" +self.fname.title())\n",
    "        print(\"patient's last name \" +self.lname.title() )        "
   ]
  },
  {
   "cell_type": "code",
   "execution_count": 4,
   "metadata": {},
   "outputs": [],
   "source": [
    "p1=patient(\"wasi\",\"rehman\",20)\n",
    "p2=patient(\"nabeel\",\"riaz\",12)\n"
   ]
  },
  {
   "cell_type": "code",
   "execution_count": 5,
   "metadata": {},
   "outputs": [
    {
     "name": "stdout",
     "output_type": "stream",
     "text": [
      "patient's first name Wasi\n",
      "patient's last name Rehman\n",
      "patient's first name Nabeel\n",
      "patient's last name Riaz\n"
     ]
    }
   ],
   "source": [
    "p1.pid123()\n",
    "p2.pid234()"
   ]
  },
  {
   "cell_type": "code",
   "execution_count": 13,
   "metadata": {},
   "outputs": [
    {
     "name": "stdout",
     "output_type": "stream",
     "text": [
      "Patients age is 20\n",
      " age is 12\n"
     ]
    }
   ],
   "source": [
    "print(\"Patients age is \" +str(p1.age))\n",
    "print( \" age is \" +str(p2.age))"
   ]
  },
  {
   "cell_type": "code",
   "execution_count": 14,
   "metadata": {},
   "outputs": [
    {
     "name": "stdout",
     "output_type": "stream",
     "text": [
      "20\n"
     ]
    }
   ],
   "source": [
    "print(p1.age)"
   ]
  },
  {
   "cell_type": "raw",
   "metadata": {},
   "source": [
    "def   "
   ]
  },
  {
   "cell_type": "code",
   "execution_count": 68,
   "metadata": {},
   "outputs": [],
   "source": [
    "class patient():\n",
    "    def __init__(self,fname,lname,age):\n",
    "        self.fname=fname\n",
    "        self.lname=lname\n",
    "        self.age=age\n",
    "        \n",
    "    def info(self):\n",
    "        print(self.fname.title() +\" \" +self.lname.title())\n",
    "        print(\"Age of patient is \" +str(self.age))    \n",
    "        if self.age<21:\n",
    "            print(\"patiet is minor\")\n",
    "            \n"
   ]
  },
  {
   "cell_type": "code",
   "execution_count": 73,
   "metadata": {},
   "outputs": [],
   "source": [
    "pid123=patient(\"wasi\",\"rehman\",24)\n",
    "pid234=patient(\"bilal\",\"khan\",12)\n",
    "pid456=patient(\"qayyum\",\"khan\",17)"
   ]
  },
  {
   "cell_type": "code",
   "execution_count": 75,
   "metadata": {},
   "outputs": [
    {
     "name": "stdout",
     "output_type": "stream",
     "text": [
      "Wasi Rehman\n",
      "Age of patient is 24\n",
      "Bilal Khan\n",
      "Age of patient is 12\n",
      "patiet is minor\n",
      "Qayyum Khan\n",
      "Age of patient is 17\n",
      "patiet is minor\n"
     ]
    }
   ],
   "source": [
    "pid123.info()\n",
    "pid234.info()\n",
    "pid456.info()"
   ]
  },
  {
   "cell_type": "code",
   "execution_count": null,
   "metadata": {},
   "outputs": [],
   "source": []
  },
  {
   "cell_type": "code",
   "execution_count": null,
   "metadata": {},
   "outputs": [],
   "source": [
    "def __init__ restaurant(self,restaurant_name,cuisine):\n",
    "    self.restaurant_name=restaurant_name\n",
    "    self.cuisine=cuisine\n",
    "    \n",
    "    "
   ]
  },
  {
   "cell_type": "code",
   "execution_count": 11,
   "metadata": {},
   "outputs": [],
   "source": [
    "class user:\n",
    "    def __init__(self,fname,lname,gender,mail):\n",
    "        self.fname=fname\n",
    "        self.lname=lname\n",
    "        self.gender=gender\n",
    "        self.mail=mail\n",
    "    def describe_user(self):\n",
    "        print(\"User name is \" +self.fname.title() + \" \" +self.lname.title() + \"\\nGender is \" +self.gender.title() + \"\\nEmail 0f user is \" +self.mail.title() )\n",
    "        print(\"Welcome Sir \" +self.fname.title())"
   ]
  },
  {
   "cell_type": "code",
   "execution_count": 12,
   "metadata": {},
   "outputs": [],
   "source": [
    "u1=user(\"wasi\",\"rehman\",\"male\",\"wasirehman48@gmail\")"
   ]
  },
  {
   "cell_type": "code",
   "execution_count": 13,
   "metadata": {},
   "outputs": [
    {
     "name": "stdout",
     "output_type": "stream",
     "text": [
      "User name is Wasi Rehman\n",
      "Gender is Male\n",
      "Email 0f user is Wasirehman48@Gmail\n",
      "Welcome Sir Wasi\n"
     ]
    }
   ],
   "source": [
    "u1.describe_user()"
   ]
  },
  {
   "cell_type": "code",
   "execution_count": 7,
   "metadata": {},
   "outputs": [
    {
     "name": "stdout",
     "output_type": "stream",
     "text": [
      "Enter marks of english:66\n",
      "Enter marks of urdu:66\n",
      "Enter marks of maths:55\n",
      "Enter marks of islamiat:88\n",
      "Enter marks of pakstudies_marks:56\n",
      "percentage= 66.2\n",
      "Your Grade is B\n"
     ]
    }
   ],
   "source": [
    "\n",
    "#Student Marksheet\n",
    "english_marks=eval(input(\"Enter marks of english:\"))\n",
    "urdu_marks=eval(input(\"Enter marks of urdu:\"))\n",
    "maths_marks=eval(input(\"Enter marks of maths:\"))\n",
    "islamiat_marks=eval(input(\"Enter marks of islamiat:\"))\n",
    "pakstudies_marks=eval(input(\"Enter marks of pakstudies_marks:\"))\n",
    "obtained_marks=english_marks+urdu_marks+maths_marks+islamiat_marks+pakstudies_marks\n",
    "total_marks=500\n",
    "percentage=((obtained_marks/total_marks)*100)\n",
    "print(\"percentage=\",percentage)\n",
    "if(percentage>=80 and percentage<=100):\n",
    "    print(\"Your Grade is A+\")\n",
    "elif(percentage>=70 and percentage<80):\n",
    "    print(\"Your Grade is A\")\n",
    "elif(percentage>=60 and percentage<70):\n",
    "    print(\"Your Grade is B\")\n",
    "elif(percentage>=50 and percentage<60):\n",
    "    print(\"Your Grade is C\")\n",
    "elif(percentage>=40 and percentage<50):\n",
    "    print(\"Your Grade is D\")\n",
    "else:\n",
    "    print(\"Your Grade is F\")"
   ]
  },
  {
   "cell_type": "markdown",
   "metadata": {},
   "source": [
    "# Inheritance"
   ]
  },
  {
   "cell_type": "markdown",
   "metadata": {},
   "source": [
    "# code reusibility"
   ]
  },
  {
   "cell_type": "code",
   "execution_count": 5,
   "metadata": {},
   "outputs": [],
   "source": [
    "class car():\n",
    "    def __init__(self,make,model,year):\n",
    "        self.make=make\n",
    "        self.model=model\n",
    "        self.year=year\n",
    "        self.odometerreading=0\n",
    "    def setodometerreading(self):\n",
    "        pass\n",
    "    def getodometerreading(self):\n",
    "        print(f'current odometer reading is {self.odometerreading}')\n",
    "    def get_discriptive_name(self):\n",
    "        long_name=str(self.year)+ \" \" + self.make + \" \" +self.model\n",
    "        return long_name.title()\n",
    "    def getFuelTankCapacity(self):\n",
    "        print(\"car has 100 litr tank\")"
   ]
  },
  {
   "cell_type": "code",
   "execution_count": 26,
   "metadata": {},
   "outputs": [],
   "source": [
    "class electricCar(car):\n",
    "    def __init__(self,make,model,year):\n",
    "        super(). __init__(make,model,year)   #WE USED SUPER TO INHERIT BASIC FUNCYIONS FROM PARENT CLASS\n",
    "        \n",
    "        self.engine=\"2000cc\"\n",
    "        self.software=\"android\"\n",
    "        self.battery=battery(100,\"200amp\",27,\"AGS\")\n",
    "   \n",
    "\n"
   ]
  },
  {
   "cell_type": "code",
   "execution_count": 50,
   "metadata": {},
   "outputs": [],
   "source": [
    "class battery():\n",
    "    def __init__(self,size,amp,plates,comp):\n",
    "        self.batterySize=size\n",
    "        self.amp=amp\n",
    "        self.plates=plates\n",
    "        self.comp=comp\n",
    "    def getbatterysize(self):\n",
    "        print(f\"Batery size is {self.batterySize}\")\n",
    "    def setbatterysize(self,newbatterysize): \n",
    "        self.batterySize=newbatterysize"
   ]
  },
  {
   "cell_type": "code",
   "execution_count": 51,
   "metadata": {},
   "outputs": [],
   "source": [
    "ecar11=electricCar(\"civic\",\"toyota\",2013)\n"
   ]
  },
  {
   "cell_type": "code",
   "execution_count": 52,
   "metadata": {},
   "outputs": [
    {
     "name": "stdout",
     "output_type": "stream",
     "text": [
      "Batery size is 100\n"
     ]
    }
   ],
   "source": [
    "ecar11.battery.getbatterysize()"
   ]
  },
  {
   "cell_type": "code",
   "execution_count": 53,
   "metadata": {},
   "outputs": [],
   "source": [
    "ecar11.battery.setbatterysize(200)"
   ]
  },
  {
   "cell_type": "code",
   "execution_count": 54,
   "metadata": {},
   "outputs": [
    {
     "name": "stdout",
     "output_type": "stream",
     "text": [
      "Batery size is 200\n"
     ]
    }
   ],
   "source": [
    "ecar11.battery.getbatterysize()"
   ]
  },
  {
   "cell_type": "markdown",
   "metadata": {},
   "source": [
    "# File Handling"
   ]
  },
  {
   "cell_type": "code",
   "execution_count": 59,
   "metadata": {},
   "outputs": [
    {
     "name": "stdout",
     "output_type": "stream",
     "text": [
      "My name is wasi\n",
      "******\n",
      "ame is wasi\n"
     ]
    }
   ],
   "source": [
    "with open(\"Saylani.txt\", \"w\") as f:\n",
    "    f.write(\"My name is wasi\")\n",
    "with open(\"Saylani.txt\", \"r\") as reader:\n",
    "    print(reader.read())\n",
    "    print(\"******\")\n",
    "    reader.seek(4)\n",
    "    print(reader.read())"
   ]
  },
  {
   "cell_type": "code",
   "execution_count": null,
   "metadata": {},
   "outputs": [],
   "source": []
  }
 ],
 "metadata": {
  "kernelspec": {
   "display_name": "Python 3",
   "language": "python",
   "name": "python3"
  },
  "language_info": {
   "codemirror_mode": {
    "name": "ipython",
    "version": 3
   },
   "file_extension": ".py",
   "mimetype": "text/x-python",
   "name": "python",
   "nbconvert_exporter": "python",
   "pygments_lexer": "ipython3",
   "version": "3.7.3"
  }
 },
 "nbformat": 4,
 "nbformat_minor": 2
}
