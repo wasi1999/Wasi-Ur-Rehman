{
 "cells": [
  {
   "cell_type": "code",
   "execution_count": 2,
   "metadata": {},
   "outputs": [],
   "source": [
    "class car:\n",
    "    name=\"c100\"\n",
    "    make=\"audi\"\n",
    "    model=2019\n",
    "    def start(self):\n",
    "        print(\"Engine started\")\n",
    "    def stop(self):\n",
    "        print(\"Engine stopped\")\n",
    "    "
   ]
  },
  {
   "cell_type": "code",
   "execution_count": 3,
   "metadata": {},
   "outputs": [
    {
     "name": "stdout",
     "output_type": "stream",
     "text": [
      "Engine started\n"
     ]
    }
   ],
   "source": [
    "car1=car()\n",
    "car1.start()"
   ]
  },
  {
   "cell_type": "code",
   "execution_count": 6,
   "metadata": {},
   "outputs": [],
   "source": [
    "class car:\n",
    "\n",
    "    # create class attributes\n",
    "    car_count = 0\n",
    "\n",
    "    # create class methods\n",
    "    def start(self, name, make, model):\n",
    "        print (\"Engine started\")\n",
    "        self.name = name\n",
    "        self.make = make\n",
    "        self.model = model\n",
    "        car.car_count += 1"
   ]
  },
  {
   "cell_type": "code",
   "execution_count": 7,
   "metadata": {},
   "outputs": [
    {
     "name": "stdout",
     "output_type": "stream",
     "text": [
      "Engine started\n",
      "corolla\n",
      "1\n"
     ]
    }
   ],
   "source": [
    "car1=car()\n",
    "car1.start(\"corolla\",\"toyota\",2018)\n",
    "print(car1.name)\n",
    "print(car.car_count)"
   ]
  },
  {
   "cell_type": "code",
   "execution_count": 8,
   "metadata": {},
   "outputs": [
    {
     "name": "stdout",
     "output_type": "stream",
     "text": [
      "Engine started\n",
      "honda\n",
      "2\n"
     ]
    }
   ],
   "source": [
    "car2=car()\n",
    "car2.start(\"civic\",\"honda\",2014)\n",
    "print(car2.make)\n",
    "print(car.car_count)"
   ]
  },
  {
   "cell_type": "code",
   "execution_count": 10,
   "metadata": {},
   "outputs": [
    {
     "name": "stdout",
     "output_type": "stream",
     "text": [
      "ef\n"
     ]
    }
   ],
   "source": [
    "a=\n",
    "b=\"f\"\n",
    "print(a+b)"
   ]
  },
  {
   "cell_type": "code",
   "execution_count": 98,
   "metadata": {},
   "outputs": [],
   "source": [
    "class restaurant:\n",
    "    def __init__(self,restaurantName,cuisineType):\n",
    "        self.restaurantName=restaurantName\n",
    "        self.cuisineType=cuisineType\n",
    "        self.numberServed=0\n",
    "    def SetNumberServed(self,numbers):\n",
    "        self.numberServed=numbers\n",
    "   \n",
    "        \n",
    "    def increment(self,numbers):\n",
    "        self.numberServed+=numbers\n",
    "    def GetNumberServed(self):\n",
    "        print(f'The restaurant served {self.numberServed}')\n",
    "        \n",
    "    def describeRestaurant(self):\n",
    "        print(f'The restaurant name is {self.restaurantName}')\n",
    "        print(f'The cuisine type is {self.cuisineType}')\n",
    "    def openrestaurant(self):\n",
    "        print(f'{self.restaurantName} is open now')\n",
    "              \n",
    "    "
   ]
  },
  {
   "cell_type": "code",
   "execution_count": 102,
   "metadata": {},
   "outputs": [
    {
     "name": "stdout",
     "output_type": "stream",
     "text": [
      "The restaurant served 0\n"
     ]
    }
   ],
   "source": [
    "Restaurant=restaurant(\"Burger Lab\",\"burgers\")\n",
    "Restaurant.numberserved=50\n",
    "Restaurant.numberserved\n",
    "Restaurant.GetNumberServed()"
   ]
  },
  {
   "cell_type": "code",
   "execution_count": 103,
   "metadata": {},
   "outputs": [
    {
     "name": "stdout",
     "output_type": "stream",
     "text": [
      "The restaurant served 60\n"
     ]
    }
   ],
   "source": [
    "Restaurant.SetNumberServed(60)\n",
    "Restaurant.GetNumberServed()"
   ]
  },
  {
   "cell_type": "code",
   "execution_count": 104,
   "metadata": {},
   "outputs": [
    {
     "name": "stdout",
     "output_type": "stream",
     "text": [
      "The restaurant served 120\n"
     ]
    }
   ],
   "source": [
    "Restaurant.increment(60)\n",
    "Restaurant.GetNumberServed()"
   ]
  },
  {
   "cell_type": "code",
   "execution_count": 106,
   "metadata": {},
   "outputs": [
    {
     "name": "stdout",
     "output_type": "stream",
     "text": [
      "The restaurant served 194\n"
     ]
    }
   ],
   "source": [
    "Restaurant.increment(37)\n",
    "Restaurant.GetNumberServed()"
   ]
  },
  {
   "cell_type": "code",
   "execution_count": 49,
   "metadata": {},
   "outputs": [],
   "source": [
    "r1=restaurant(\"Kababjees\",\"BBQ\")"
   ]
  },
  {
   "cell_type": "code",
   "execution_count": 50,
   "metadata": {},
   "outputs": [
    {
     "name": "stdout",
     "output_type": "stream",
     "text": [
      "The restaurant name is Kababjees\n",
      "The cuisine type is BBQ\n"
     ]
    }
   ],
   "source": [
    "r1.describeRestaurant()\n"
   ]
  },
  {
   "cell_type": "code",
   "execution_count": 51,
   "metadata": {},
   "outputs": [
    {
     "name": "stdout",
     "output_type": "stream",
     "text": [
      "Kababjees is open now\n"
     ]
    }
   ],
   "source": [
    "r1.openrestaurant()"
   ]
  },
  {
   "cell_type": "code",
   "execution_count": 52,
   "metadata": {},
   "outputs": [],
   "source": [
    "r2=restaurant(\"KFC\",\"fast food\")\n",
    "r3=restaurant(\"Pizza Hut\",\"Pizza\")\n"
   ]
  },
  {
   "cell_type": "code",
   "execution_count": 53,
   "metadata": {},
   "outputs": [
    {
     "name": "stdout",
     "output_type": "stream",
     "text": [
      "The restaurant name is KFC\n",
      "The cuisine type is fast food\n",
      "KFC is open now\n"
     ]
    }
   ],
   "source": [
    "r2.describeRestaurant()\n",
    "r2.openrestaurant()"
   ]
  },
  {
   "cell_type": "code",
   "execution_count": 130,
   "metadata": {},
   "outputs": [],
   "source": [
    "class user:\n",
    "    def __init__(self,fname,lname,age):\n",
    "        self.fname=fname\n",
    "        self.lname=lname\n",
    "        self.age=age\n",
    "       \n",
    "    def describeUser(self):\n",
    "        print(f'The first name of the user is {self.fname}')\n",
    "        print(f'The last name of user is {self.lname}')\n",
    "        print(f'The age of the user is {self.age}')\n",
    "    def greetUser(self):\n",
    "        print(f'Welcome Mr.{self.fname}')\n",
    "    "
   ]
  },
  {
   "cell_type": "code",
   "execution_count": 131,
   "metadata": {},
   "outputs": [],
   "source": [
    "u1=user(\"wasi\",\"rehman\",20)\n",
    "u2=user(\"nabeel\",\"riaz\",12)"
   ]
  },
  {
   "cell_type": "code",
   "execution_count": 132,
   "metadata": {},
   "outputs": [
    {
     "name": "stdout",
     "output_type": "stream",
     "text": [
      "The first name of the user is wasi\n",
      "The last name of user is rehman\n",
      "The age of the user is 20\n",
      "Welcome Mr.wasi\n"
     ]
    }
   ],
   "source": [
    "u1.describeUser()\n",
    "u1.greetUser()"
   ]
  },
  {
   "cell_type": "code",
   "execution_count": 118,
   "metadata": {},
   "outputs": [],
   "source": [
    "class A(B):\n",
    "    def feature1(self):\n",
    "        print(\"This is feature 1\")\n",
    "    def feature2(self):\n",
    "        print(\"This is feature 2\")\n",
    "class B(A):\n",
    "    def feature3(self):\n",
    "        print(\"This is feature 3\")\n",
    "    def feature4(self):\n",
    "        print(\"This is feature 4\")\n"
   ]
  },
  {
   "cell_type": "code",
   "execution_count": 119,
   "metadata": {},
   "outputs": [],
   "source": [
    "a1=A()"
   ]
  },
  {
   "cell_type": "code",
   "execution_count": 120,
   "metadata": {},
   "outputs": [
    {
     "name": "stdout",
     "output_type": "stream",
     "text": [
      "This is feature 1\n"
     ]
    }
   ],
   "source": [
    "a1.feature1()"
   ]
  },
  {
   "cell_type": "code",
   "execution_count": 121,
   "metadata": {},
   "outputs": [],
   "source": [
    "a2=B()"
   ]
  },
  {
   "cell_type": "code",
   "execution_count": 122,
   "metadata": {},
   "outputs": [
    {
     "name": "stdout",
     "output_type": "stream",
     "text": [
      "This is feature 1\n"
     ]
    }
   ],
   "source": [
    "a1.feature1()"
   ]
  },
  {
   "cell_type": "code",
   "execution_count": 133,
   "metadata": {},
   "outputs": [],
   "source": [
    "city=[\"karachi\",\"lahore\",\"peshawar\"]"
   ]
  },
  {
   "cell_type": "code",
   "execution_count": 137,
   "metadata": {},
   "outputs": [],
   "source": [
    "city.append(\"islamabad\")"
   ]
  },
  {
   "cell_type": "code",
   "execution_count": 138,
   "metadata": {},
   "outputs": [
    {
     "data": {
      "text/plain": [
       "['karachi', 'lahore', 'peshawar', 'islamabad', 'islamabad']"
      ]
     },
     "execution_count": 138,
     "metadata": {},
     "output_type": "execute_result"
    }
   ],
   "source": [
    "city"
   ]
  },
  {
   "cell_type": "code",
   "execution_count": 154,
   "metadata": {},
   "outputs": [],
   "source": [
    "city=city +[\"multan\",\"KP\"]"
   ]
  },
  {
   "cell_type": "code",
   "execution_count": 155,
   "metadata": {},
   "outputs": [
    {
     "data": {
      "text/plain": [
       "['karachi', 'lahore', 'peshawar', 'islamabad', 'multan', 'multan', 'KP']"
      ]
     },
     "execution_count": 155,
     "metadata": {},
     "output_type": "execute_result"
    }
   ],
   "source": [
    "city"
   ]
  },
  {
   "cell_type": "code",
   "execution_count": 156,
   "metadata": {},
   "outputs": [
    {
     "data": {
      "text/plain": [
       "'islamabad'"
      ]
     },
     "execution_count": 156,
     "metadata": {},
     "output_type": "execute_result"
    }
   ],
   "source": [
    "city.pop(3)"
   ]
  },
  {
   "cell_type": "code",
   "execution_count": 157,
   "metadata": {},
   "outputs": [
    {
     "data": {
      "text/plain": [
       "['karachi', 'lahore', 'peshawar', 'multan', 'multan', 'KP']"
      ]
     },
     "execution_count": 157,
     "metadata": {},
     "output_type": "execute_result"
    }
   ],
   "source": [
    "city"
   ]
  },
  {
   "cell_type": "code",
   "execution_count": 166,
   "metadata": {},
   "outputs": [
    {
     "data": {
      "text/plain": [
       "['karachi', 'multan']"
      ]
     },
     "execution_count": 166,
     "metadata": {},
     "output_type": "execute_result"
    }
   ],
   "source": [
    "city[0:4:3]"
   ]
  },
  {
   "cell_type": "code",
   "execution_count": 147,
   "metadata": {},
   "outputs": [
    {
     "data": {
      "text/plain": [
       "['karachi', 'lahore', 'peshawar', 'islamabad', 'multan']"
      ]
     },
     "execution_count": 147,
     "metadata": {},
     "output_type": "execute_result"
    }
   ],
   "source": [
    "city[:]"
   ]
  },
  {
   "cell_type": "code",
   "execution_count": null,
   "metadata": {},
   "outputs": [],
   "source": [
    "rose=wasi\n",
    "prin"
   ]
  },
  {
   "cell_type": "code",
   "execution_count": null,
   "metadata": {},
   "outputs": [],
   "source": []
  },
  {
   "cell_type": "code",
   "execution_count": null,
   "metadata": {},
   "outputs": [],
   "source": []
  },
  {
   "cell_type": "code",
   "execution_count": null,
   "metadata": {},
   "outputs": [],
   "source": []
  },
  {
   "cell_type": "code",
   "execution_count": null,
   "metadata": {},
   "outputs": [],
   "source": []
  }
 ],
 "metadata": {
  "kernelspec": {
   "display_name": "Python 3",
   "language": "python",
   "name": "python3"
  },
  "language_info": {
   "codemirror_mode": {
    "name": "ipython",
    "version": 3
   },
   "file_extension": ".py",
   "mimetype": "text/x-python",
   "name": "python",
   "nbconvert_exporter": "python",
   "pygments_lexer": "ipython3",
   "version": "3.7.3"
  }
 },
 "nbformat": 4,
 "nbformat_minor": 2
}
