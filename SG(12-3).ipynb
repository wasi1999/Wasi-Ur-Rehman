{
 "cells": [
  {
   "cell_type": "code",
   "execution_count": 2,
   "metadata": {},
   "outputs": [],
   "source": [
    "class User():\n",
    "    def __init__(self, name, fname, gender, email):\n",
    "        self.name = name\n",
    "        self.fname= fname\n",
    "        self.gender = gender\n",
    "        self.email = email \n",
    "        self.loginAttempts= 0\n",
    "    def greetUser(self):\n",
    "        print(f\"Welcome User: {self.name}\")\n",
    "   \n",
    "    def setIncrementLoginAttempts(self, attempts):\n",
    "        self.loginAttempts +=attempts\n",
    "    \n",
    "    def getLoginAttempts(self):\n",
    "        print(f\"{self.name} has made {self.loginAttempts} attempts\")\n",
    "    \n",
    "    def describeUser(self):\n",
    "        print(f\"User name is {self.name}\")\n",
    "        print(f\"User email id is {self.email}\")\n",
    "        "
   ]
  },
  {
   "cell_type": "code",
   "execution_count": 4,
   "metadata": {},
   "outputs": [],
   "source": [
    "u1=User(\"wasi\",\"rehman\",\"male\",\"wasirehman48@gmail.com\")\n",
    "u2=User(\"ahmed\",\"ali\",\"male\",\"ahmed@gmail\")"
   ]
  },
  {
   "cell_type": "code",
   "execution_count": 5,
   "metadata": {},
   "outputs": [
    {
     "name": "stdout",
     "output_type": "stream",
     "text": [
      "User name is wasi\n",
      "User email id is wasirehman48@gmail.com\n"
     ]
    }
   ],
   "source": [
    "u1.describeUser()"
   ]
  },
  {
   "cell_type": "code",
   "execution_count": 6,
   "metadata": {},
   "outputs": [
    {
     "name": "stdout",
     "output_type": "stream",
     "text": [
      "wasi has made 0 attempts\n"
     ]
    }
   ],
   "source": [
    "u1.getLoginAttempts()"
   ]
  },
  {
   "cell_type": "code",
   "execution_count": 7,
   "metadata": {},
   "outputs": [],
   "source": [
    "u1.setIncrementLoginAttempts(2)"
   ]
  },
  {
   "cell_type": "code",
   "execution_count": 8,
   "metadata": {},
   "outputs": [
    {
     "name": "stdout",
     "output_type": "stream",
     "text": [
      "wasi has made 2 attempts\n"
     ]
    }
   ],
   "source": [
    "u1.getLoginAttempts()"
   ]
  },
  {
   "cell_type": "code",
   "execution_count": null,
   "metadata": {},
   "outputs": [],
   "source": []
  },
  {
   "cell_type": "code",
   "execution_count": null,
   "metadata": {},
   "outputs": [],
   "source": []
  }
 ],
 "metadata": {
  "kernelspec": {
   "display_name": "Python 3",
   "language": "python",
   "name": "python3"
  },
  "language_info": {
   "codemirror_mode": {
    "name": "ipython",
    "version": 3
   },
   "file_extension": ".py",
   "mimetype": "text/x-python",
   "name": "python",
   "nbconvert_exporter": "python",
   "pygments_lexer": "ipython3",
   "version": "3.7.3"
  }
 },
 "nbformat": 4,
 "nbformat_minor": 2
}
